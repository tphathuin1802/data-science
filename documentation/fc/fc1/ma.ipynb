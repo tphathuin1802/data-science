{
 "cells": [
  {
   "cell_type": "code",
   "execution_count": null,
   "id": "d0198287",
   "metadata": {},
   "outputs": [],
   "source": [
    "import pandas as pd\n",
    "import ta\n",
    "import "
   ]
  },
  {
   "cell_type": "code",
   "execution_count": 3,
   "id": "fc4ce285",
   "metadata": {},
   "outputs": [],
   "source": [
    "data ={\n",
    "    \"Week\":[1,2,3,4,5],\n",
    "    \"Demand\":[100,110,95,120,115]\n",
    "}\n"
   ]
  },
  {
   "cell_type": "code",
   "execution_count": 4,
   "id": "36b4d438",
   "metadata": {},
   "outputs": [
    {
     "data": {
      "application/vnd.microsoft.datawrangler.viewer.v0+json": {
       "columns": [
        {
         "name": "index",
         "rawType": "int64",
         "type": "integer"
        },
        {
         "name": "Week",
         "rawType": "int64",
         "type": "integer"
        },
        {
         "name": "Demand",
         "rawType": "int64",
         "type": "integer"
        }
       ],
       "ref": "74a96a01-4709-4d47-b198-6f8c48dd8bfb",
       "rows": [
        [
         "0",
         "1",
         "100"
        ],
        [
         "1",
         "2",
         "110"
        ],
        [
         "2",
         "3",
         "95"
        ],
        [
         "3",
         "4",
         "120"
        ],
        [
         "4",
         "5",
         "115"
        ]
       ],
       "shape": {
        "columns": 2,
        "rows": 5
       }
      },
      "text/html": [
       "<div>\n",
       "<style scoped>\n",
       "    .dataframe tbody tr th:only-of-type {\n",
       "        vertical-align: middle;\n",
       "    }\n",
       "\n",
       "    .dataframe tbody tr th {\n",
       "        vertical-align: top;\n",
       "    }\n",
       "\n",
       "    .dataframe thead th {\n",
       "        text-align: right;\n",
       "    }\n",
       "</style>\n",
       "<table border=\"1\" class=\"dataframe\">\n",
       "  <thead>\n",
       "    <tr style=\"text-align: right;\">\n",
       "      <th></th>\n",
       "      <th>Week</th>\n",
       "      <th>Demand</th>\n",
       "    </tr>\n",
       "  </thead>\n",
       "  <tbody>\n",
       "    <tr>\n",
       "      <th>0</th>\n",
       "      <td>1</td>\n",
       "      <td>100</td>\n",
       "    </tr>\n",
       "    <tr>\n",
       "      <th>1</th>\n",
       "      <td>2</td>\n",
       "      <td>110</td>\n",
       "    </tr>\n",
       "    <tr>\n",
       "      <th>2</th>\n",
       "      <td>3</td>\n",
       "      <td>95</td>\n",
       "    </tr>\n",
       "    <tr>\n",
       "      <th>3</th>\n",
       "      <td>4</td>\n",
       "      <td>120</td>\n",
       "    </tr>\n",
       "    <tr>\n",
       "      <th>4</th>\n",
       "      <td>5</td>\n",
       "      <td>115</td>\n",
       "    </tr>\n",
       "  </tbody>\n",
       "</table>\n",
       "</div>"
      ],
      "text/plain": [
       "   Week  Demand\n",
       "0     1     100\n",
       "1     2     110\n",
       "2     3      95\n",
       "3     4     120\n",
       "4     5     115"
      ]
     },
     "execution_count": 4,
     "metadata": {},
     "output_type": "execute_result"
    }
   ],
   "source": [
    "df = pd.DataFrame(data)\n",
    "df"
   ]
  },
  {
   "cell_type": "code",
   "execution_count": 6,
   "id": "5c1dbc83",
   "metadata": {},
   "outputs": [
    {
     "ename": "KeyError",
     "evalue": "4",
     "output_type": "error",
     "traceback": [
      "\u001b[1;31m---------------------------------------------------------------------------\u001b[0m",
      "\u001b[1;31mKeyError\u001b[0m                                  Traceback (most recent call last)",
      "File \u001b[1;32mc:\\Users\\phath\\anaconda3\\Lib\\site-packages\\pandas\\core\\indexes\\base.py:3805\u001b[0m, in \u001b[0;36mIndex.get_loc\u001b[1;34m(self, key)\u001b[0m\n\u001b[0;32m   3804\u001b[0m \u001b[38;5;28;01mtry\u001b[39;00m:\n\u001b[1;32m-> 3805\u001b[0m     \u001b[38;5;28;01mreturn\u001b[39;00m \u001b[38;5;28;43mself\u001b[39;49m\u001b[38;5;241;43m.\u001b[39;49m\u001b[43m_engine\u001b[49m\u001b[38;5;241;43m.\u001b[39;49m\u001b[43mget_loc\u001b[49m\u001b[43m(\u001b[49m\u001b[43mcasted_key\u001b[49m\u001b[43m)\u001b[49m\n\u001b[0;32m   3806\u001b[0m \u001b[38;5;28;01mexcept\u001b[39;00m \u001b[38;5;167;01mKeyError\u001b[39;00m \u001b[38;5;28;01mas\u001b[39;00m err:\n",
      "File \u001b[1;32mindex.pyx:167\u001b[0m, in \u001b[0;36mpandas._libs.index.IndexEngine.get_loc\u001b[1;34m()\u001b[0m\n",
      "File \u001b[1;32mindex.pyx:196\u001b[0m, in \u001b[0;36mpandas._libs.index.IndexEngine.get_loc\u001b[1;34m()\u001b[0m\n",
      "File \u001b[1;32mpandas\\\\_libs\\\\hashtable_class_helper.pxi:7081\u001b[0m, in \u001b[0;36mpandas._libs.hashtable.PyObjectHashTable.get_item\u001b[1;34m()\u001b[0m\n",
      "File \u001b[1;32mpandas\\\\_libs\\\\hashtable_class_helper.pxi:7089\u001b[0m, in \u001b[0;36mpandas._libs.hashtable.PyObjectHashTable.get_item\u001b[1;34m()\u001b[0m\n",
      "\u001b[1;31mKeyError\u001b[0m: 4",
      "\nThe above exception was the direct cause of the following exception:\n",
      "\u001b[1;31mKeyError\u001b[0m                                  Traceback (most recent call last)",
      "Cell \u001b[1;32mIn[6], line 7\u001b[0m\n\u001b[0;32m      4\u001b[0m sma_forecasts \u001b[38;5;241m=\u001b[39m sma\u001b[38;5;241m.\u001b[39mshift(\u001b[38;5;241m1\u001b[39m)\n\u001b[0;32m      6\u001b[0m \u001b[38;5;66;03m# Extract forecasts for weeks 4, 5, 6\u001b[39;00m\n\u001b[1;32m----> 7\u001b[0m F4 \u001b[38;5;241m=\u001b[39m \u001b[43msma_forecasts\u001b[49m\u001b[43m[\u001b[49m\u001b[38;5;241;43m4\u001b[39;49m\u001b[43m]\u001b[49m  \u001b[38;5;66;03m# forecast for week 4\u001b[39;00m\n\u001b[0;32m      8\u001b[0m F5 \u001b[38;5;241m=\u001b[39m sma_forecasts[\u001b[38;5;241m5\u001b[39m]  \u001b[38;5;66;03m# forecast for week 5\u001b[39;00m\n\u001b[0;32m      9\u001b[0m F6 \u001b[38;5;241m=\u001b[39m sma[\u001b[38;5;241m-\u001b[39m\u001b[38;5;241m1\u001b[39m]           \u001b[38;5;66;03m# forecast for week 6, using weeks 3-5\u001b[39;00m\n",
      "File \u001b[1;32mc:\\Users\\phath\\anaconda3\\Lib\\site-packages\\pandas\\core\\frame.py:4102\u001b[0m, in \u001b[0;36mDataFrame.__getitem__\u001b[1;34m(self, key)\u001b[0m\n\u001b[0;32m   4100\u001b[0m \u001b[38;5;28;01mif\u001b[39;00m \u001b[38;5;28mself\u001b[39m\u001b[38;5;241m.\u001b[39mcolumns\u001b[38;5;241m.\u001b[39mnlevels \u001b[38;5;241m>\u001b[39m \u001b[38;5;241m1\u001b[39m:\n\u001b[0;32m   4101\u001b[0m     \u001b[38;5;28;01mreturn\u001b[39;00m \u001b[38;5;28mself\u001b[39m\u001b[38;5;241m.\u001b[39m_getitem_multilevel(key)\n\u001b[1;32m-> 4102\u001b[0m indexer \u001b[38;5;241m=\u001b[39m \u001b[38;5;28;43mself\u001b[39;49m\u001b[38;5;241;43m.\u001b[39;49m\u001b[43mcolumns\u001b[49m\u001b[38;5;241;43m.\u001b[39;49m\u001b[43mget_loc\u001b[49m\u001b[43m(\u001b[49m\u001b[43mkey\u001b[49m\u001b[43m)\u001b[49m\n\u001b[0;32m   4103\u001b[0m \u001b[38;5;28;01mif\u001b[39;00m is_integer(indexer):\n\u001b[0;32m   4104\u001b[0m     indexer \u001b[38;5;241m=\u001b[39m [indexer]\n",
      "File \u001b[1;32mc:\\Users\\phath\\anaconda3\\Lib\\site-packages\\pandas\\core\\indexes\\base.py:3812\u001b[0m, in \u001b[0;36mIndex.get_loc\u001b[1;34m(self, key)\u001b[0m\n\u001b[0;32m   3807\u001b[0m     \u001b[38;5;28;01mif\u001b[39;00m \u001b[38;5;28misinstance\u001b[39m(casted_key, \u001b[38;5;28mslice\u001b[39m) \u001b[38;5;129;01mor\u001b[39;00m (\n\u001b[0;32m   3808\u001b[0m         \u001b[38;5;28misinstance\u001b[39m(casted_key, abc\u001b[38;5;241m.\u001b[39mIterable)\n\u001b[0;32m   3809\u001b[0m         \u001b[38;5;129;01mand\u001b[39;00m \u001b[38;5;28many\u001b[39m(\u001b[38;5;28misinstance\u001b[39m(x, \u001b[38;5;28mslice\u001b[39m) \u001b[38;5;28;01mfor\u001b[39;00m x \u001b[38;5;129;01min\u001b[39;00m casted_key)\n\u001b[0;32m   3810\u001b[0m     ):\n\u001b[0;32m   3811\u001b[0m         \u001b[38;5;28;01mraise\u001b[39;00m InvalidIndexError(key)\n\u001b[1;32m-> 3812\u001b[0m     \u001b[38;5;28;01mraise\u001b[39;00m \u001b[38;5;167;01mKeyError\u001b[39;00m(key) \u001b[38;5;28;01mfrom\u001b[39;00m\u001b[38;5;250m \u001b[39m\u001b[38;5;21;01merr\u001b[39;00m\n\u001b[0;32m   3813\u001b[0m \u001b[38;5;28;01mexcept\u001b[39;00m \u001b[38;5;167;01mTypeError\u001b[39;00m:\n\u001b[0;32m   3814\u001b[0m     \u001b[38;5;66;03m# If we have a listlike key, _check_indexing_error will raise\u001b[39;00m\n\u001b[0;32m   3815\u001b[0m     \u001b[38;5;66;03m#  InvalidIndexError. Otherwise we fall through and re-raise\u001b[39;00m\n\u001b[0;32m   3816\u001b[0m     \u001b[38;5;66;03m#  the TypeError.\u001b[39;00m\n\u001b[0;32m   3817\u001b[0m     \u001b[38;5;28mself\u001b[39m\u001b[38;5;241m.\u001b[39m_check_indexing_error(key)\n",
      "\u001b[1;31mKeyError\u001b[0m: 4"
     ]
    }
   ],
   "source": [
    "# (a) 3-period Simple Moving Average (SMA) forecasts for weeks 4–6\n",
    "sma = df.rolling(window=3).mean()\n",
    "# Forecasts are lagged, so shift SMA by 1 to align with forecast week\n",
    "sma_forecasts = sma.shift(1)\n",
    "\n",
    "# Extract forecasts for weeks 4, 5, 6\n",
    "F4 = sma_forecasts[4]  # forecast for week 4\n",
    "F5 = sma_forecasts[5]  # forecast for week 5\n",
    "F6 = sma[-1]           # forecast for week 6, using weeks 3-5\n",
    "\n",
    "print(\"SMA Forecasts:\")\n",
    "print(f\"F4 = {F4:.2f}, F5 = {F5:.2f}, F6 = {F6:.2f}\")\n",
    "\n",
    "# (b) Compute MAD and MSE for SMA (for weeks 4 and 5 where we have actuals)\n",
    "actuals = demand[4:6]                   # Weeks 4 and 5 actuals\n",
    "sma_pred = sma_forecasts[4:6]           # Weeks 4 and 5 forecasts\n",
    "\n",
    "mad_sma = np.mean(np.abs(actuals - sma_pred))\n",
    "mse_sma = np.mean((actuals - sma_pred) ** 2)\n",
    "\n",
    "print(f\"\\nSMA - MAD: {mad_sma:.2f}, MSE: {mse_sma:.2f}\")\n",
    "\n",
    "# (c) Naive forecast: use previous actual demand\n",
    "naive_forecasts = demand.shift(1)       # forecast = last actual\n",
    "naive_pred = naive_forecasts[4:6]       # Forecasts for weeks 4 and 5\n",
    "mad_naive = np.mean(np.abs(actuals - naive_pred))\n",
    "mse_naive = np.mean((actuals - naive_pred) ** 2)\n",
    "\n",
    "print(f\"\\nNaive - MAD: {mad_naive:.2f}, MSE: {mse_naive:.2f}\")\n",
    "\n",
    "# Compare methods\n",
    "if mad_sma < mad_naive and mse_sma < mse_naive:\n",
    "    print(\"\\nSMA performs better based on both MAD and MSE.\")\n",
    "elif mad_sma > mad_naive and mse_sma > mse_naive:\n",
    "    print(\"\\nNaive forecast performs better based on both MAD and MSE.\")\n",
    "else:\n",
    "    print(\"\\nMixed results: one method is better in MAD, the other in MSE.\")"
   ]
  }
 ],
 "metadata": {
  "kernelspec": {
   "display_name": "base",
   "language": "python",
   "name": "python3"
  },
  "language_info": {
   "codemirror_mode": {
    "name": "ipython",
    "version": 3
   },
   "file_extension": ".py",
   "mimetype": "text/x-python",
   "name": "python",
   "nbconvert_exporter": "python",
   "pygments_lexer": "ipython3",
   "version": "3.12.7"
  }
 },
 "nbformat": 4,
 "nbformat_minor": 5
}
